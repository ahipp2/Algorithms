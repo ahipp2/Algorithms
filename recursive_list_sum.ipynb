{
 "cells": [
  {
   "cell_type": "code",
   "execution_count": 13,
   "metadata": {},
   "outputs": [
    {
     "name": "stdout",
     "output_type": "stream",
     "text": [
      "21\n"
     ]
    }
   ],
   "source": [
    "#Write a Python program of recursion list sum. Go to the editor\n",
    "#Test Data: [1, 2, [3,4], [5,6]]\n",
    "#Had to look at solution for help with the type() function line. Could not figure out how to access list inside list w/recursion. \n",
    "\n",
    "def recursion_list_sum(test_data):     \n",
    "    total = 0\n",
    "    for element in test_data:                      #retrieves value for element at the current index \n",
    "        if type(element) == type([]):              #checks data type of current element\n",
    "            total += recursion_list_sum(element)   #if element is a nested list recursively call func, using element as arg\n",
    "        \n",
    "        else:                                      #if element is not list, then add element to total \n",
    "            total += element\n",
    "    return total \n",
    "print(recursion_list_sum([1,2,[3,4],[5,6]]))"
   ]
  },
  {
   "cell_type": "code",
   "execution_count": null,
   "metadata": {},
   "outputs": [],
   "source": []
  },
  {
   "cell_type": "code",
   "execution_count": null,
   "metadata": {},
   "outputs": [],
   "source": []
  }
 ],
 "metadata": {
  "kernelspec": {
   "display_name": "Python 3",
   "language": "python",
   "name": "python3"
  },
  "language_info": {
   "codemirror_mode": {
    "name": "ipython",
    "version": 3
   },
   "file_extension": ".py",
   "mimetype": "text/x-python",
   "name": "python",
   "nbconvert_exporter": "python",
   "pygments_lexer": "ipython3",
   "version": "3.7.4"
  }
 },
 "nbformat": 4,
 "nbformat_minor": 2
}
