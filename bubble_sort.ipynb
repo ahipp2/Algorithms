{
 "cells": [
  {
   "cell_type": "markdown",
   "metadata": {},
   "source": [
    "#### *bubble sort algorithm to compare each element in list and sort in ascending order*"
   ]
  },
  {
   "cell_type": "code",
   "execution_count": 68,
   "metadata": {},
   "outputs": [],
   "source": [
    "import random\n",
    "def bubble_sort(dataIn):\n",
    "    temp = None\n",
    "    listLength = len(dataIn)\n",
    "    \n",
    "                                            # will run into index out of range issues so have to set proper limits for loops\n",
    "    for i in range(listLength -1, 0 , -1):  # outer loop starts at value of list length -1. Decrements to beginning of list \n",
    "        for x in range(i):                  # inner loop sorts elements starting at index 0 until length of list - 1\n",
    "            if dataIn[x] > dataIn[x+1]:\n",
    "                temp = dataIn[x]            #swap elements based on rank. use temp variable to hold value while swapping\n",
    "                dataIn[x] = dataIn[x+1]     \n",
    "                dataIn[x+1] = temp\n",
    "            else:\n",
    "                continue\n",
    "     \n",
    "    return dataIn\n",
    "\n"
   ]
  },
  {
   "cell_type": "markdown",
   "metadata": {},
   "source": [
    "##### *create list by generating 100 random integers from 0-100 to be sorted"
   ]
  },
  {
   "cell_type": "code",
   "execution_count": 69,
   "metadata": {},
   "outputs": [],
   "source": [
    "\n",
    "myList = []\n",
    "\n",
    "for k in range(100):\n",
    "     myList.append(random.randint(0,100))\n",
    "    \n",
    "#print(myList)"
   ]
  },
  {
   "cell_type": "markdown",
   "metadata": {},
   "source": [
    "##### run random list through bubble sorting algorithm "
   ]
  },
  {
   "cell_type": "code",
   "execution_count": 70,
   "metadata": {},
   "outputs": [
    {
     "name": "stdout",
     "output_type": "stream",
     "text": [
      "[0, 1, 2, 3, 3, 3, 3, 4, 7, 8, 10, 10, 11, 12, 12, 13, 13, 13, 14, 15, 15, 15, 15, 17, 17, 17, 17, 19, 21, 23, 25, 25, 28, 29, 30, 30, 31, 33, 34, 34, 35, 35, 37, 38, 38, 40, 40, 42, 42, 43, 44, 44, 46, 46, 46, 47, 49, 49, 51, 52, 52, 54, 56, 56, 57, 58, 58, 58, 59, 60, 61, 64, 67, 68, 69, 70, 71, 73, 75, 75, 76, 76, 76, 77, 78, 78, 78, 80, 80, 80, 85, 85, 87, 91, 91, 93, 95, 96, 99, 99]\n",
      "100\n"
     ]
    }
   ],
   "source": [
    "sortedList = bubble_sort(myList)\n",
    "print(sortedList)\n"
   ]
  },
  {
   "cell_type": "code",
   "execution_count": null,
   "metadata": {},
   "outputs": [],
   "source": []
  }
 ],
 "metadata": {
  "kernelspec": {
   "display_name": "Python 3",
   "language": "python",
   "name": "python3"
  },
  "language_info": {
   "codemirror_mode": {
    "name": "ipython",
    "version": 3
   },
   "file_extension": ".py",
   "mimetype": "text/x-python",
   "name": "python",
   "nbconvert_exporter": "python",
   "pygments_lexer": "ipython3",
   "version": "3.7.4"
  }
 },
 "nbformat": 4,
 "nbformat_minor": 2
}
