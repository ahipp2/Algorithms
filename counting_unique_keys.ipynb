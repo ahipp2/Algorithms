{
 "cells": [
  {
   "cell_type": "code",
   "execution_count": 42,
   "metadata": {},
   "outputs": [
    {
     "name": "stdout",
     "output_type": "stream",
     "text": [
      "We 1\n",
      "tried 3\n",
      "list 1\n",
      "and 1\n",
      "we 2\n",
      "dicts 1\n",
      "also 1\n",
      "Zen 1\n"
     ]
    }
   ],
   "source": [
    "def word_counter(dataIn):\n",
    "  \n",
    "    myDict = {}\n",
    "    \n",
    "    stringLength = len(dataIn.replace(\" \",\"\").strip())\n",
    "    #print(stringLength)\n",
    "    if stringLength > 10000:\n",
    "        print(\"Truncating string to 10,000 letters...\")\n",
    "        data = dataIn[0:10001]\n",
    "    else: \n",
    "        #print(\"Thanks!\")\n",
    "        data = dataIn\n",
    "    \n",
    "        for word in data.split(\" \"):\n",
    "            if word not in myDict:\n",
    "                myDict[word] = word\n",
    "                myDict[word] = 1\n",
    "            else:\n",
    "                myDict[word] += 1\n",
    "    \n",
    "    for key,value in myDict.items():\n",
    "        print(key,value)\n",
    "    \n",
    "        \n",
    "myString = \"We tried list and we tried dicts also we tried Zen\"\n",
    "test = word_counter(myString)\n",
    "\n",
    "            \n",
    "    \n",
    "    "
   ]
  },
  {
   "cell_type": "code",
   "execution_count": null,
   "metadata": {},
   "outputs": [],
   "source": []
  }
 ],
 "metadata": {
  "kernelspec": {
   "display_name": "Python 3",
   "language": "python",
   "name": "python3"
  },
  "language_info": {
   "codemirror_mode": {
    "name": "ipython",
    "version": 3
   },
   "file_extension": ".py",
   "mimetype": "text/x-python",
   "name": "python",
   "nbconvert_exporter": "python",
   "pygments_lexer": "ipython3",
   "version": "3.7.4"
  }
 },
 "nbformat": 4,
 "nbformat_minor": 2
}
