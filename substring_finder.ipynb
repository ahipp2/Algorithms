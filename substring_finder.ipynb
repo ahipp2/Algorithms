{
 "cells": [
  {
   "cell_type": "code",
   "execution_count": 20,
   "metadata": {},
   "outputs": [
    {
     "name": "stdout",
     "output_type": "stream",
     "text": [
      "3\n",
      "2 4 10 \n"
     ]
    }
   ],
   "source": [
    "def substringFinder(string1, string2):\n",
    "   \n",
    "    sLength = len(string1)\n",
    "    tLength = len(string2)\n",
    "    positionList = []\n",
    "    outputString = \"\"\n",
    "\n",
    "    for x in range(sLength - (tLength - 1)):\n",
    "        if string1[x:x+tLength] in string2:  \n",
    "            substringPos = x +1\n",
    "            positionList.append(substringPos)\n",
    "        else:\n",
    "            pass\n",
    "          \n",
    "    for i in range(len(positionList)):\n",
    "        outputString = outputString + str(positionList[i]) + \" \"\n",
    "    return outputString\n",
    "               \n",
    "string1 = \"GATATATGCATATACTT\"\n",
    "string2 = \"ATAT\"\n",
    "\n",
    "\n",
    "test = substringFinder(string1,string2)\n",
    "print(test)\n",
    "\n",
    "\n",
    "        \n",
    "    "
   ]
  },
  {
   "cell_type": "code",
   "execution_count": null,
   "metadata": {},
   "outputs": [],
   "source": []
  }
 ],
 "metadata": {
  "kernelspec": {
   "display_name": "Python 3",
   "language": "python",
   "name": "python3"
  },
  "language_info": {
   "codemirror_mode": {
    "name": "ipython",
    "version": 3
   },
   "file_extension": ".py",
   "mimetype": "text/x-python",
   "name": "python",
   "nbconvert_exporter": "python",
   "pygments_lexer": "ipython3",
   "version": "3.7.4"
  }
 },
 "nbformat": 4,
 "nbformat_minor": 2
}
